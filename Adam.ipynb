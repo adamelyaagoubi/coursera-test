{
 "cells": [
  {
   "cell_type": "markdown",
   "id": "a9cf86b6",
   "metadata": {},
   "source": [
    "# Assignment"
   ]
  },
  {
   "cell_type": "markdown",
   "id": "73df1dbc",
   "metadata": {},
   "source": [
    "### Here is the introduction section"
   ]
  },
  {
   "cell_type": "markdown",
   "id": "df0c74a2",
   "metadata": {},
   "source": [
    "#### Data Science languages :\n",
    "- Python\n",
    "- R\n"
   ]
  },
  {
   "cell_type": "markdown",
   "id": "b77df880",
   "metadata": {},
   "source": [
    "#### Data Science libraries :\n",
    "- matplotlib\n",
    "- pandas\n",
    "- numpy"
   ]
  },
  {
   "cell_type": "markdown",
   "id": "ae8b928c",
   "metadata": {},
   "source": [
    "| Data Science Tools |\n",
    "| --- |\n",
    "| Jupyter Notebook |\n",
    "| --- |\n",
    "| GitHub |\n"
   ]
  },
  {
   "cell_type": "markdown",
   "id": "c0b89c3a",
   "metadata": {},
   "source": [
    "This is an introduction for arithmetic expressions"
   ]
  },
  {
   "cell_type": "code",
   "execution_count": 1,
   "id": "bbd61e9c",
   "metadata": {},
   "outputs": [
    {
     "ename": "NameError",
     "evalue": "name 'a' is not defined",
     "output_type": "error",
     "traceback": [
      "\u001b[1;31m---------------------------------------------------------------------------\u001b[0m",
      "\u001b[1;31mNameError\u001b[0m                                 Traceback (most recent call last)",
      "Cell \u001b[1;32mIn[1], line 1\u001b[0m\n\u001b[1;32m----> 1\u001b[0m a \u001b[38;5;241m+\u001b[39m b\n\u001b[0;32m      2\u001b[0m a \u001b[38;5;241m*\u001b[39m b\n",
      "\u001b[1;31mNameError\u001b[0m: name 'a' is not defined"
     ]
    }
   ],
   "source": [
    "a + b\n",
    "a * b"
   ]
  },
  {
   "cell_type": "code",
   "execution_count": 2,
   "id": "f99b1f6a",
   "metadata": {},
   "outputs": [
    {
     "ename": "NameError",
     "evalue": "name 'h' is not defined",
     "output_type": "error",
     "traceback": [
      "\u001b[1;31m---------------------------------------------------------------------------\u001b[0m",
      "\u001b[1;31mNameError\u001b[0m                                 Traceback (most recent call last)",
      "Cell \u001b[1;32mIn[2], line 1\u001b[0m\n\u001b[1;32m----> 1\u001b[0m \u001b[38;5;28mmin\u001b[39m \u001b[38;5;241m=\u001b[39m h\u001b[38;5;241m*\u001b[39m\u001b[38;5;241m60\u001b[39m\n",
      "\u001b[1;31mNameError\u001b[0m: name 'h' is not defined"
     ]
    }
   ],
   "source": [
    "min = h*60"
   ]
  },
  {
   "cell_type": "markdown",
   "id": "fcc348a3",
   "metadata": {},
   "source": [
    "This is an introduction sentence.\n",
    "- aaaa\n",
    "- bbbb\n",
    "- cccc"
   ]
  },
  {
   "cell_type": "markdown",
   "id": "1c8af484",
   "metadata": {},
   "source": [
    "Author : Adam "
   ]
  },
  {
   "cell_type": "code",
   "execution_count": null,
   "id": "db6b218c",
   "metadata": {},
   "outputs": [],
   "source": []
  }
 ],
 "metadata": {
  "kernelspec": {
   "display_name": "Python 3 (ipykernel)",
   "language": "python",
   "name": "python3"
  },
  "language_info": {
   "codemirror_mode": {
    "name": "ipython",
    "version": 3
   },
   "file_extension": ".py",
   "mimetype": "text/x-python",
   "name": "python",
   "nbconvert_exporter": "python",
   "pygments_lexer": "ipython3",
   "version": "3.11.3"
  }
 },
 "nbformat": 4,
 "nbformat_minor": 5
}
